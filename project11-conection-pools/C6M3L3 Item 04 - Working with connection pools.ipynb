{
 "cells": [
  {
   "cell_type": "markdown",
   "source": [
    "## C6M3L3 Item 04 - Working with connection pools"
   ],
   "metadata": {}
  },
  {
   "cell_type": "markdown",
   "source": [
    "## Prerequisites: \n",
    "\n",
    "To complete this lab, you need to install Python and MySQL. Then you need to install MySQL Connector/Python client or API on your Python environment. Follow the instructions in previous videos to install the required packages or software.  \n",
    "\n",
    "To work with MySQL using Python, you must have an authorized user account on the MySQL server.  \n",
    "\n",
    "## Scenario: \n",
    "\n",
    "Little Lemon’s guests need to access the database for any booking or inquiry, for example, reading the menu. Little Lemon, therefore, needs to establish a connection between the Python and MySQL databases for every operation.  Establishing a connection every time is resource intensive and it is affecting the performance of the Little Lemon application. To improve the performance of the application, Little Lemon needs to establish a pool of database connections to facilitate the guests’ inquiries to the database. \n",
    "\n",
    "You are tasked to help Little Lemon to create a pool of database connections using Python. "
   ],
   "metadata": {}
  },
  {
   "cell_type": "markdown",
   "source": [
    "## Task 1\n",
    "\n",
    "Create a database connection pool with three connections available for the users to connect. You need to import MySQLConnectionPool class and pass the following arguments: \n",
    "\n",
    "* pool_name = “ll_pool_a” \n",
    "* pool_size = 3 \n",
    "* **dbconfig \n",
    "\n",
    "Your database configuration will look like this:  \n",
    "```Python\n",
    "dbconfig = { \n",
    "    \"database\" : \"name_of_the_little_lemon_database\",  \n",
    "    \"user\" : \"your_username\", \n",
    "    \"password\" : \"your_password\" \n",
    "} \n",
    "```\n",
    "\n",
    "Use the actual name of the database together with authenticated username and password in the above configuration.  \n",
    "\n",
    "Please use the Error class from `mysql.connector` to handle the possible error in case the wrong parameters are passed on the database configuration.  \n",
    "\n",
    "**Tip:** Use try-except block from Python to implement the error handling. Once the connection pool is created, use the print statements to display the name of the pool and the number of connections in it.  "
   ],
   "metadata": {}
  },
  {
   "cell_type": "code",
   "execution_count": 1,
   "source": [
    "from mysql.connector.pooling import MySQLConnectionPool\n",
    "from mysql.connector import Error\n",
    "\n",
    "dbconfig = {\n",
    "    \"database\":\"little_lemon\",\n",
    "    \"user\" : \"root\",\n",
    "    \"password\" : \"\"\n",
    "}\n",
    "\n",
    "try:\n",
    "    pool = MySQLConnectionPool(pool_name = \"ll_pool_a\",\n",
    "                           pool_size = 3, #default is 5\n",
    "                           **dbconfig)\n",
    "    print(\"The connection pool is created with a name: \",pool.pool_name)\n",
    "    print(\"The pool size is:\",pool.pool_size)\n",
    "\n",
    "except Error as er:\n",
    "    print(\"Error code:\", er.errno)\n",
    "    print(\"Error message:\", er.msg)"
   ],
   "outputs": [
    {
     "output_type": "stream",
     "name": "stdout",
     "text": [
      "The connection pool is created with a name:  ll_pool_a\n",
      "The pool size is: 3\n"
     ]
    }
   ],
   "metadata": {}
  },
  {
   "cell_type": "markdown",
   "source": [
    "## Task 2\n",
    "\n",
    "Get a connection from the database connection pool that you have created in the first task and retrieve the following columns from the `Bookings` table: \n",
    "\n",
    "* `BookingID` \n",
    "* `GuestFirstName` \n",
    "* `GuestLastName` \n",
    "\n",
    "Retrieve the required columns and put the connection back into the pool after you have completed the task. \n",
    "\n",
    "**TIP:** Use the `get_connection` module from the `pool` to use the connection. Use `print` statements to display the following message and `close` the connection to return to the pool.  "
   ],
   "metadata": {}
  },
  {
   "cell_type": "code",
   "execution_count": 2,
   "source": [
    "from mysql.connector.pooling import MySQLConnectionPool\n",
    "\n",
    "dbconfig = {\n",
    "    \"database\":\"little_lemon\",\n",
    "    \"user\" : \"root\",\n",
    "    \"password\" : \"\"\n",
    "}\n",
    "\n",
    "pool = MySQLConnectionPool(pool_name = \"ll_pool_a\",\n",
    "                           pool_size = 3, #default is 5\n",
    "                           **dbconfig)\n",
    "\n",
    "\n",
    "# Get the connection from the connection pool \"pool\"\n",
    "print(\"Getting a connection from the pool.\")\n",
    "connection1 = pool.get_connection()\n",
    "\n",
    "#print(\"A user with connection id {} is connected to the database.\".format(\n",
    "#    connection1.connection_id))\n",
    "\n",
    "#db_Info = connection1.get_server_info()\n",
    "#print(\"MySQL server version is:\", db_Info)\n",
    "\n",
    "# Create cursor object to communicate with entire MySQL database\n",
    "print(\"Creating a cursor object.\")\n",
    "cursor = connection1.cursor()\n",
    "\n",
    "# The SQL query is:\n",
    "sql_query = \"SELECT BookingId, GuestFirstName, GuestLastName FROM Bookings;\"\n",
    "\n",
    "# Execute query\n",
    "print(\"Executing the SQL query.\")\n",
    "cursor.execute(sql_query)\n",
    "\n",
    "# Fetch all results that satisfy the query \n",
    "print(\"Fetching the query results.\")\n",
    "results = cursor.fetchall()\n",
    "\n",
    "# Retrieve column names\n",
    "print(\"Retrieving the column names.\")\n",
    "cols = cursor.column_names\n",
    "\n",
    "# Print column names and records in \"results\" using for loop\n",
    "print(\"Printing the results.\\n\")\n",
    "print(\"\"\"Upcoming Bookings are:\\n\"\"\")\n",
    "print(cols)\n",
    "for result in results:\n",
    "    print(result)\n",
    "    \n",
    "# Put the connection back to the pool    \n",
    "print(\"\\nReturning the connection back to the pool.\")\n",
    "connection1.close()\n",
    "print(\"The connection is placed back into the pool for the next user to connect.\")"
   ],
   "outputs": [
    {
     "output_type": "stream",
     "name": "stdout",
     "text": [
      "Getting a connection from the pool.\n",
      "Creating a cursor object.\n",
      "Executing the SQL query.\n",
      "Fetching the query results.\n",
      "Retrieving the column names.\n",
      "Printing the results.\n",
      "\n",
      "Upcoming Bookings are:\n",
      "\n",
      "('BookingId', 'GuestFirstName', 'GuestLastName')\n",
      "(1, 'Anna', 'Iversen')\n",
      "(2, 'Joakim', 'Iversen')\n",
      "(3, 'Vanessa', 'McCarthy')\n",
      "(4, 'Marcos', 'Romero')\n",
      "(5, 'Hiroki', 'Yamane')\n",
      "(6, 'Diana', 'Pinto')\n",
      "\n",
      "Returning the connection back to the pool.\n",
      "The connection is placed back into the pool for the next user to connect.\n"
     ]
    }
   ],
   "metadata": {}
  },
  {
   "cell_type": "markdown",
   "source": [
    "## Task 3\n",
    "\n",
    "The following five guests want to connect to the database: \n",
    "\n",
    "* guests = [\"Anna\", \"Marcos\", \"Diana\", \"Joakim\", \"Hiroki\"] \n",
    "\n",
    "You only have three connections in the database connection pool. Use the available connection in the `pool` to connect three guests and then add new connections in the pool to connect the remaining two guests. By adding more connection in the pool, make sure that all five guests are connected to the database at the same time.  \n",
    "\n",
    "**Tip:** Use `add_connection` module from the `pool` and add a new connection if all are in use. Use `try-except` from Python and print the message to inform the user when connected. "
   ],
   "metadata": {}
  },
  {
   "cell_type": "code",
   "execution_count": 3,
   "source": [
    "# Create a connection pool\n",
    "from mysql.connector.pooling import MySQLConnectionPool\n",
    "dbconfig = {\n",
    "    \"database\":\"little_lemon\",\n",
    "    \"user\" : \"root\",\n",
    "    \"password\" : \"\"\n",
    "}\n",
    "\n",
    "pool = MySQLConnectionPool(pool_name = \"ll_pool_a\",\n",
    "                           pool_size = 3, #default is 5\n",
    "                           **dbconfig)\n",
    "\n",
    "# List of the guests who want to connect to the database\n",
    "guests = [\"Anna\", \"Marcos\", \"Diana\", \"Joakim\", \"Hiroki\"]\n",
    "\n",
    "# To add connection to the pool, the connection must be of MySQLConnection instance \n",
    "# Also possible to create via connect module and need the import below\n",
    "import mysql.connector as connector\n",
    "\n",
    "# Assign connection to each user\n",
    "for guest in guests:\n",
    "    try:\n",
    "        guest_connected = pool.get_connection()\n",
    "        print(\"[{}] is connected.\\n\".format(guest))\n",
    "    except:\n",
    "        print(\"No more connections are available.\")\n",
    "        print(\"Adding new connection in the pool.\")\n",
    "        \n",
    "        # Create a connection\n",
    "        connection=connector.connect(user=\"root\",password=\"\")\n",
    "        # Add the connection into the pool\n",
    "        pool.add_connection(cnx=connection)\n",
    "        print(\"A new connection is added in the pool.\\n\")\n",
    "        \n",
    "        user_connected = pool.get_connection()\n",
    "        print(\"[{}] is connected.\\n\".format(guest))"
   ],
   "outputs": [
    {
     "output_type": "stream",
     "name": "stdout",
     "text": [
      "[Anna] is connected.\n",
      "\n",
      "[Marcos] is connected.\n",
      "\n",
      "[Diana] is connected.\n",
      "\n",
      "No more connections are available.\n",
      "Adding new connection in the pool.\n",
      "A new connection is added in the pool.\n",
      "\n",
      "[Joakim] is connected.\n",
      "\n",
      "No more connections are available.\n",
      "Adding new connection in the pool.\n",
      "A new connection is added in the pool.\n",
      "\n",
      "[Hiroki] is connected.\n",
      "\n"
     ]
    }
   ],
   "metadata": {}
  }
 ],
 "metadata": {
  "kernelspec": {
   "display_name": "Python 3",
   "language": "python",
   "name": "python3"
  },
  "language_info": {
   "codemirror_mode": {
    "name": "ipython",
    "version": 3
   },
   "file_extension": ".py",
   "mimetype": "text/x-python",
   "name": "python",
   "nbconvert_exporter": "python",
   "pygments_lexer": "ipython3",
   "version": "3.9.0"
  }
 },
 "nbformat": 4,
 "nbformat_minor": 4
}
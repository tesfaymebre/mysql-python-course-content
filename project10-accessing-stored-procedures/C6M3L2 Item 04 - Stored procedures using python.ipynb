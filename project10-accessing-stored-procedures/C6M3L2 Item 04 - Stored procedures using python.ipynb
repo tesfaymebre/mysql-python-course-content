{
 "cells": [
  {
   "cell_type": "markdown",
   "metadata": {},
   "source": [
    "## C6M3L2 Item 04 – Stored procedures using python"
   ]
  },
  {
   "cell_type": "markdown",
   "metadata": {},
   "source": [
    "## Prerequisites: \n",
    "\n",
    "To complete this exercise, you must have access to the `little_lemon` database. As an authorized user, you need to establish a connection between Python and the database via the MySQL Connector/Python API and create a `cursor` object using the following code: "
   ]
  },
  {
   "cell_type": "code",
   "execution_count": 1,
   "metadata": {},
   "outputs": [],
   "source": [
    "import mysql.connector as connector"
   ]
  },
  {
   "cell_type": "code",
   "execution_count": 2,
   "metadata": {},
   "outputs": [],
   "source": [
    "# Establish connection b/w Python and MySQL database via connector API\n",
    "connection=connector.connect(\n",
    "                             user=\"root\", # use your own\n",
    "                             password=\"\", # use your own\n",
    "                            )"
   ]
  },
  {
   "cell_type": "code",
   "execution_count": 3,
   "metadata": {},
   "outputs": [],
   "source": [
    "# Create a cursor object to communicate with entire MySQL database\n",
    "cursor = connection.cursor()"
   ]
  },
  {
   "cell_type": "markdown",
   "metadata": {},
   "source": [
    "Once, the connection is established, and you have a cursor object, you can select the database `little_lemon` using the code below and work with the respective table to accomplish the required tasks. "
   ]
  },
  {
   "cell_type": "code",
   "execution_count": 4,
   "metadata": {},
   "outputs": [
    {
     "data": {
      "text/plain": [
       "'little_lemon'"
      ]
     },
     "execution_count": 4,
     "metadata": {},
     "output_type": "execute_result"
    }
   ],
   "source": [
    "# Set the little_lemon database for use \n",
    "cursor.execute(\"use little_lemon\")\n",
    "\n",
    "# Confirm the database in use\n",
    "connection.database"
   ]
  },
  {
   "cell_type": "markdown",
   "metadata": {},
   "source": [
    "## Scenario: \n",
    "\n",
    "Little lemon need to perform some tasks on daily basis, and they involve extracting data from one or more tables. The tasks include finding the guest with maximum spending, retrieving the bookings for no arrival, and displaying the order status to the guests. To keep consistency during the data retrieval process, Little Lemon is interested to implement the required tasks using stored procedures. You can help Little Lemon and create stored procedures so that they can call them according to their requirements in their python-based application. "
   ]
  },
  {
   "cell_type": "markdown",
   "metadata": {},
   "source": [
    "## Task 1:\n",
    "\n",
    "Little lemon is running a marketing campaign this month. They need to issue a discount coupon to the top spender on daily bases. Create a stored procedure `TopSpender` that can retrieve the booking ID, guest’s full name, and the bill amount of the top spender at closing. Call the procedure and print the results.   \n",
    "\n",
    "**TIP:** Target `BookingID`, `GusetFistName`, `GuestLastName` and `BillAmount` columns from the `Bookings` and the `Orders` tables. Use the concatenation function to get the guest’s full name. Join the two tables and retrieve the top spender. Create a stored procedure, call it by its name using python and print the results. "
   ]
  },
  {
   "cell_type": "code",
   "execution_count": 5,
   "metadata": {},
   "outputs": [],
   "source": [
    "cursor.execute(\"DROP PROCEDURE IF EXISTS TopSpender;\")"
   ]
  },
  {
   "cell_type": "code",
   "execution_count": 6,
   "metadata": {},
   "outputs": [
    {
     "name": "stdout",
     "output_type": "stream",
     "text": [
      "['BookingID', 'CustomerName', 'BillAmount']\n",
      "(1, 'Anna Iversen', 86)\n"
     ]
    }
   ],
   "source": [
    "# Task 1\n",
    "# Stored procedure name >> TopSpender\n",
    "# Our stored procedure query is\n",
    "stored_procedure_query=\"\"\"\n",
    "CREATE PROCEDURE TopSpender()\n",
    "\n",
    "BEGIN\n",
    "\n",
    "SELECT bookings.BookingID, \n",
    "CONCAT(\n",
    "bookings.GuestFirstname,\n",
    "' ',\n",
    "bookings.GuestLastname\n",
    ") AS CustomerName,\n",
    "Orders.BillAmount \n",
    "FROM Bookings\n",
    "INNER JOIN\n",
    "Orders ON bookings.BookingID=Orders.BookingID\n",
    "ORDER BY BillAmount DESC LIMIT 1;\n",
    "\n",
    "END\n",
    "\n",
    "\"\"\"\n",
    "\n",
    "# Execute the query\n",
    "cursor.execute(stored_procedure_query)\n",
    "\n",
    "#********************************************#\n",
    "\n",
    "# Call the stored procedure with its name\n",
    "cursor.callproc(\"TopSpender\")\n",
    "\n",
    "# Retrieve recrods in \"dataset\"\n",
    "results = next( cursor.stored_results() )\n",
    "dataset = results.fetchall()\n",
    "\n",
    "# Retrieve column names using list comprehension in a 'for' loop \n",
    "for column_id in cursor.stored_results():\n",
    "    columns = [ column[0] for column in column_id.description ]\n",
    "\n",
    "# Print column names\n",
    "print(columns)\n",
    "\n",
    "# Print data \n",
    "for data in dataset:\n",
    "    print(data)"
   ]
  },
  {
   "cell_type": "markdown",
   "metadata": {},
   "source": [
    "## Task 2:\n",
    "\n",
    "Help Little Lemon to retrieve all those bookings where the guests did not appear today. How will you implement this task using a stored procedure? Use `NoArrival` as a name for your stored procedure.  \n",
    "\n",
    "TIP: Target the `Orders` and the `Bookings` tables, join them on `BookingID` and retrieve the records with a `NULL` value in the bill amount. Create a stored procedure, call it by its name using python and print the results."
   ]
  },
  {
   "cell_type": "code",
   "execution_count": 7,
   "metadata": {},
   "outputs": [],
   "source": [
    "cursor.execute(\"DROP PROCEDURE IF EXISTS NoArrival;\")"
   ]
  },
  {
   "cell_type": "code",
   "execution_count": 8,
   "metadata": {},
   "outputs": [
    {
     "name": "stdout",
     "output_type": "stream",
     "text": [
      "['BookingID', 'BillAmount']\n",
      "(6, None)\n"
     ]
    }
   ],
   "source": [
    "# Task 2\n",
    "# Stored procedure name >> NoArrival\n",
    "# Our stored procedure query is\n",
    "stored_procedure_query=\"\"\"\n",
    "CREATE PROCEDURE NoArrival()\n",
    "\n",
    "BEGIN\n",
    "\n",
    "SELECT bookings.BookingID, \n",
    "Orders.BillAmount \n",
    "FROM Bookings\n",
    "LEFT JOIN\n",
    "Orders ON Bookings.BookingID=Orders.BookingID\n",
    "WHERE BillAmount IS NULL;\n",
    "\n",
    "END\n",
    "\n",
    "\"\"\"\n",
    "\n",
    "# Execute the query \n",
    "cursor.execute(stored_procedure_query)\n",
    "\n",
    "#********************************************#\n",
    "\n",
    "# Call the stored procedure with its name\n",
    "cursor.callproc(\"NoArrival\")\n",
    "\n",
    "# Retrieve recrods in \"dataset\"\n",
    "results = next( cursor.stored_results() )\n",
    "dataset = results.fetchall()\n",
    "\n",
    "# Retrieve column names using list comprehension in a 'for' loop \n",
    "for column_id in cursor.stored_results():\n",
    "    columns = [ column[0] for column in column_id.description ]\n",
    "\n",
    "# Print column names\n",
    "print(columns)\n",
    "\n",
    "# Print data \n",
    "for data in dataset:\n",
    "    print(data)"
   ]
  },
  {
   "cell_type": "code",
   "execution_count": 9,
   "metadata": {},
   "outputs": [
    {
     "data": {
      "text/plain": [
       "<list_iterator at 0x10e63b280>"
      ]
     },
     "execution_count": 9,
     "metadata": {},
     "output_type": "execute_result"
    }
   ],
   "source": [
    "cursor.stored_results()"
   ]
  },
  {
   "cell_type": "code",
   "execution_count": 10,
   "metadata": {},
   "outputs": [
    {
     "data": {
      "text/plain": [
       "<mysql.connector.cursor.MySQLCursorBuffered at 0x10dc39eb0>"
      ]
     },
     "execution_count": 10,
     "metadata": {},
     "output_type": "execute_result"
    }
   ],
   "source": [
    "\n",
    "cursor.callproc(\"NoArrival\")\n",
    "results = next( cursor.stored_results() )\n",
    "results#.fetchall()"
   ]
  },
  {
   "cell_type": "code",
   "execution_count": 11,
   "metadata": {},
   "outputs": [
    {
     "data": {
      "text/plain": [
       "mysql.connector.cursor.MySQLCursorBuffered"
      ]
     },
     "execution_count": 11,
     "metadata": {},
     "output_type": "execute_result"
    }
   ],
   "source": [
    "type(results)"
   ]
  },
  {
   "cell_type": "code",
   "execution_count": 12,
   "metadata": {},
   "outputs": [
    {
     "data": {
      "text/plain": [
       "<list_iterator at 0x10e63b9d0>"
      ]
     },
     "execution_count": 12,
     "metadata": {},
     "output_type": "execute_result"
    }
   ],
   "source": [
    "cursor.stored_results()"
   ]
  },
  {
   "cell_type": "markdown",
   "metadata": {},
   "source": [
    "## Task 3:\n",
    "\n",
    "It is very important for little lemon to keep track of the status of each guest’s order and display it on the screen to keep their guests informed.  \n",
    "\n",
    "This is how they categorize the orders: \n",
    "\n",
    "* If not assigned to any employee, the status is `In Queue` \n",
    "* If assigned to the employees with IDs 4 and 5, the status is `Preparing Order` \n",
    "* If assigned to the employees with IDs 1, 2, and 3, the status is `Order Served` \n",
    "\n",
    "Create a stored procedure named `OrderStatus` for the above task and call to check if everything is working.  \n",
    "\n",
    "**TIP:** Target `EmployeeID` column in the `Bookings` table and use the `CASE` function in your stored procedure query. Create a stored procedure, call it by its name using python and print the results.  "
   ]
  },
  {
   "cell_type": "code",
   "execution_count": 13,
   "metadata": {},
   "outputs": [],
   "source": [
    "cursor.execute(\"DROP PROCEDURE IF EXISTS OrderStatus;\")"
   ]
  },
  {
   "cell_type": "code",
   "execution_count": 14,
   "metadata": {},
   "outputs": [
    {
     "name": "stdout",
     "output_type": "stream",
     "text": [
      "['bookingID', 'Status']\n",
      "(1, 'Order Served')\n",
      "(2, 'Order Served')\n",
      "(3, 'Order Served')\n",
      "(4, 'Preparing Order')\n",
      "(5, 'Order Served')\n",
      "(6, 'Preparing Order')\n"
     ]
    }
   ],
   "source": [
    "# Task 3\n",
    "# Stored procedure name >> OrderStatus\n",
    "# Our stored procedure query is\n",
    "stored_procedure_query=\"\"\"\n",
    "CREATE PROCEDURE OrderStatus()\n",
    "\n",
    "BEGIN\n",
    "\n",
    "SELECT bookingID, \n",
    "CASE\n",
    "WHEN employeeID IN (1,2,3) THEN \"Order Served\" \n",
    "WHEN employeeID IN (4,5) THEN \"Preparing Order\" \n",
    "ELSE \"In Queue\" \n",
    "END AS Status\n",
    "FROM Bookings;\n",
    "\n",
    "END\n",
    "\n",
    "\"\"\"\n",
    "\n",
    "# Execute the query\n",
    "cursor.execute(stored_procedure_query)\n",
    "\n",
    "#********************************************#\n",
    "\n",
    "# Call the stored procedure with its name\n",
    "cursor.callproc(\"OrderStatus\")\n",
    "\n",
    "# Retrieve recrods in \"dataset\"\n",
    "results = next( cursor.stored_results() )\n",
    "dataset = results.fetchall()\n",
    "\n",
    "# Retrieve column names using list comprehension in a 'for' loop \n",
    "for column_id in cursor.stored_results():\n",
    "    columns = [ column[0] for column in column_id.description ]\n",
    "\n",
    "# Print column names\n",
    "print(columns)\n",
    "\n",
    "# Print data \n",
    "for data in dataset:\n",
    "    print(data)"
   ]
  },
  {
   "cell_type": "code",
   "execution_count": 15,
   "metadata": {},
   "outputs": [
    {
     "name": "stdout",
     "output_type": "stream",
     "text": [
      "The cursor is closed.\n",
      "MySQL connection is closed.\n"
     ]
    }
   ],
   "source": [
    "# Let's close the cursor and the connection\n",
    "if connection.is_connected():\n",
    "    cursor.close()\n",
    "    print(\"The cursor is closed.\")\n",
    "    connection.close()\n",
    "    print(\"MySQL connection is closed.\")\n",
    "else:\n",
    "    print(\"Connection is already closed\")"
   ]
  }
 ],
 "metadata": {
  "kernelspec": {
   "display_name": "Python 3",
   "language": "python",
   "name": "python3"
  },
  "language_info": {
   "codemirror_mode": {
    "name": "ipython",
    "version": 3
   },
   "file_extension": ".py",
   "mimetype": "text/x-python",
   "name": "python",
   "nbconvert_exporter": "python",
   "pygments_lexer": "ipython3",
   "version": "3.9.0"
  }
 },
 "nbformat": 4,
 "nbformat_minor": 4
}

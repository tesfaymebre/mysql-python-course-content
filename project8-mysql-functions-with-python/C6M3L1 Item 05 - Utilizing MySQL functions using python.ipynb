{
 "cells": [
  {
   "cell_type": "markdown",
   "metadata": {},
   "source": [
    "## C6M3L1 Item 05 – Utilizing MySQL functions using python \n"
   ]
  },
  {
   "cell_type": "markdown",
   "metadata": {},
   "source": [
    "## Prerequisites: \n",
    "\n",
    "To complete this exercise, you must have access to the `little_lemon` database. As an authorized user, you need to establish a connection between Python and the database via the MySQL Connector/Python API and create a `cursor` object using the following code: "
   ]
  },
  {
   "cell_type": "code",
   "execution_count": 1,
   "metadata": {},
   "outputs": [],
   "source": [
    "import mysql.connector as connector"
   ]
  },
  {
   "cell_type": "code",
   "execution_count": 2,
   "metadata": {},
   "outputs": [],
   "source": [
    "# Establish connection b/w Python and MySQL database via connector API\n",
    "connection=connector.connect(\n",
    "                             user=\"root\", # use your own\n",
    "                             password=\"\", # use your own\n",
    "                            )"
   ]
  },
  {
   "cell_type": "code",
   "execution_count": 3,
   "metadata": {},
   "outputs": [],
   "source": [
    "# Create cursor object to communicate with entire MySQL database\n",
    "cursor = connection.cursor()"
   ]
  },
  {
   "cell_type": "markdown",
   "metadata": {},
   "source": [
    "Once, the connection is established, and you have a cursor object, you can select the database `little_lemon` using the code below and work with the respective table to accomplish the required tasks.  "
   ]
  },
  {
   "cell_type": "code",
   "execution_count": 4,
   "metadata": {},
   "outputs": [],
   "source": [
    "#cursor.execute(\"use little_lemon\")"
   ]
  },
  {
   "cell_type": "code",
   "execution_count": 5,
   "metadata": {},
   "outputs": [
    {
     "data": {
      "text/plain": [
       "'little_lemon'"
      ]
     },
     "execution_count": 5,
     "metadata": {},
     "output_type": "execute_result"
    }
   ],
   "source": [
    "# Set little_lemon for use \n",
    "cursor.execute(\"use little_lemon\")\n",
    "\n",
    "# Confirming\n",
    "connection.database"
   ]
  },
  {
   "cell_type": "markdown",
   "metadata": {},
   "source": [
    "## Scenario: \n",
    "\n",
    "There are several occasions where Little Lemon needs to perform routine operations, some of them include, total sales, the total number of guests, the number of items in each cuisine, the full name of the guests, and so on. These are only a few examples and writing queries again and again for such routine tasks is not trivial. You can help Little Lemon to handle such tasks using MySQL functions in their python-based application. "
   ]
  },
  {
   "cell_type": "markdown",
   "metadata": {},
   "source": [
    "## Task 1:\n",
    "\n",
    "Along with the booking ID, little lemon needs to add the full name of the guests in upper case on their invoices. Help little lemon to extract the data in the required format.  \n",
    "\n",
    "TIP: Target `GuestFistName`, `GuestLastName` and combine them to get `GuestFullName`.  "
   ]
  },
  {
   "cell_type": "code",
   "execution_count": 6,
   "metadata": {},
   "outputs": [
    {
     "name": "stdout",
     "output_type": "stream",
     "text": [
      "('ID', 'GuestFullName')\n",
      "\n",
      "(1, 'ANNA IVERSEN')\n",
      "(2, 'JOAKIM IVERSEN')\n",
      "(3, 'VANESSA MCCARTHY')\n",
      "(4, 'MARCOS ROMERO')\n",
      "(5, 'HIROKI YAMANE')\n",
      "(6, 'DIANA PINTO')\n"
     ]
    }
   ],
   "source": [
    "# Task 1\n",
    "#SELECT GuestFirstName, GuestLastName,\n",
    "\n",
    "# The SQL query is:\n",
    "sql_query=\"\"\"\n",
    "SELECT \n",
    "BookingID AS ID,\n",
    "UPPER(CONCAT(GuestFirstName,' ',GuestLastName)) \n",
    "AS GuestFullName \n",
    "FROM bookings;\"\"\"\n",
    "\n",
    "# Execute query\n",
    "cursor.execute(sql_query)\n",
    "\n",
    "# Fetch records \n",
    "results = cursor.fetchall()\n",
    "\n",
    "# Retrieve column names\n",
    "columns = cursor.column_names\n",
    "\n",
    "# Print column names\n",
    "print(columns)\n",
    "\n",
    "# Just add an empty line using print statement\n",
    "print()\n",
    "\n",
    "# Print query results\n",
    "for result in results:\n",
    "    print(result)  "
   ]
  },
  {
   "cell_type": "markdown",
   "metadata": {},
   "source": [
    "## Task 2:\n",
    "\n",
    "Little lemon needs to know the following statistics at closing: \n",
    "\n",
    "* Number of bookings \n",
    "* Total sale \n",
    "* Average sale \n",
    "\n",
    "Help little lemon to compute the required statistics from the data in the “Orders” table using python. \n",
    "\n",
    "**TIP:** Target “BookingID” and “BillAmount” columns in the “Orders” table and use MySQL built-in functions to compute the required statistics. Once, you grab the results, use the following python code to print the required output.  \n",
    "\n",
    "```Python\n",
    "print(\"Today's statistics:\") \n",
    "for result in results: \n",
    "    print(\"Number of bookings:\",result[0]) \n",
    "    print(\"Total sale:\",result[1]) \n",
    "    print(\"Average sale:\",result[2]) \n",
    "```"
   ]
  },
  {
   "cell_type": "code",
   "execution_count": 7,
   "metadata": {},
   "outputs": [
    {
     "name": "stdout",
     "output_type": "stream",
     "text": [
      "Today's statistics:\n",
      "Number of bookings: 5\n",
      "Total sale: 243\n",
      "Average sale: 48.6000\n"
     ]
    }
   ],
   "source": [
    "# Task 2\n",
    "\n",
    "# The SQL query is:\n",
    "sql_query=\"\"\"\n",
    "SELECT \n",
    "COUNT(BookingID) AS n_bookings,\n",
    "SUM(BillAmount) AS Total_sale,\n",
    "AVG(BillAmount) AS Avg_sale\n",
    "FROM Orders;\"\"\"\n",
    "\n",
    "# Execute query\n",
    "cursor.execute(sql_query)\n",
    "\n",
    "# Fetch records\n",
    "results=cursor.fetchall()\n",
    "\n",
    "# Print results\n",
    "print(\"Today's statistics:\")\n",
    "for result in results:\n",
    "    print(\"Number of bookings:\",result[0])\n",
    "    print(\"Total sale:\",result[1])\n",
    "    print(\"Average sale:\",result[2])"
   ]
  },
  {
   "cell_type": "markdown",
   "metadata": {},
   "source": [
    "## Task 3:\n",
    "\n",
    "Little lemon needs to know the number of bookings for each table. Please help them to print the table number and the number of bookings for each table.  \n",
    "\n",
    "**TIP:** Target `TableNo` column in the booking table, count the number of bookings for each table, and group the data. Print the results in descending order.  "
   ]
  },
  {
   "cell_type": "code",
   "execution_count": 8,
   "metadata": {},
   "outputs": [
    {
     "name": "stdout",
     "output_type": "stream",
     "text": [
      "('Table number', 'n_booking')\n",
      "(12, 2)\n",
      "(19, 1)\n",
      "(15, 1)\n",
      "(5, 1)\n",
      "(8, 1)\n"
     ]
    }
   ],
   "source": [
    "# Task 3\n",
    "\n",
    "# The SQL query is:\n",
    "sql_query=\"\"\"SELECT \n",
    "TableNo AS 'Table number', \n",
    "COUNT(TableNo) AS n_booking\n",
    "FROM Bookings \n",
    "GROUP BY TableNo \n",
    "ORDER BY n_booking DESC;\"\"\"\n",
    "\n",
    "# Execute query\n",
    "cursor.execute(sql_query)\n",
    "\n",
    "# Fetch records \n",
    "results = cursor.fetchall()\n",
    "\n",
    "# Retrieve column names\n",
    "columns = cursor.column_names\n",
    "\n",
    "# Print column names\n",
    "print(columns)\n",
    "\n",
    "# Print query results\n",
    "for result in results:\n",
    "    print(result)"
   ]
  },
  {
   "cell_type": "markdown",
   "metadata": {},
   "source": [
    "## Task 4:\n",
    "\n",
    "Little lemon wants to create three arrival slots for the guests based on the booking hour: \n",
    "\n",
    "* Late afternoon: for hours 15 and 16  \n",
    "* Evening: for hours 17 and 18 \n",
    "* Night: for hours 19 and 20 \n",
    "\n",
    "Help little lemon to create the above slots and display the booking ID, guest name, and arrival slot on the kitchen screen so that the staff can plan accordingly.  \n",
    "\n",
    "**TIP:** Target `GuestFistName` and `GuestLastName` columns and combine them to get `Guest_Name`. Use the MySQL `CASE` function and create `Arrival_slot` for each guest.  "
   ]
  },
  {
   "cell_type": "code",
   "execution_count": 9,
   "metadata": {},
   "outputs": [
    {
     "name": "stdout",
     "output_type": "stream",
     "text": [
      "('BookingID', 'Guest_Name', 'Arrival_slot')\n",
      "(1, 'Anna Iversen', 'Night')\n",
      "(2, 'Joakim Iversen', 'Night')\n",
      "(3, 'Vanessa McCarthy', 'Late afternoon')\n",
      "(4, 'Marcos Romero', 'Evening')\n",
      "(5, 'Hiroki Yamane', 'Evening')\n",
      "(6, 'Diana Pinto', 'Night')\n"
     ]
    }
   ],
   "source": [
    "# Task 4\n",
    "\n",
    "# The SQL query is:\n",
    "sql_query=\"\"\"\n",
    "SELECT\n",
    "BookingID,\n",
    "CONCAT(GuestFirstName,' ',GuestLastName) AS Guest_Name,\n",
    "\n",
    "CASE\n",
    "WHEN HOUR(BookingSlot) IN (15,16) THEN \"Late afternoon\" \n",
    "WHEN HOUR(BookingSlot) IN (17,18) THEN \"Evening\" \n",
    "WHEN HOUR(BookingSlot) IN (19,20) THEN \"Night\"\n",
    "ELSE \"Time not available\" \n",
    "END AS Arrival_slot\n",
    "\n",
    "FROM Bookings;\"\"\"\n",
    "\n",
    "# Execute query\n",
    "cursor.execute(sql_query)\n",
    "\n",
    "# Fetch records \n",
    "results = cursor.fetchall()\n",
    "\n",
    "# Retrieve column names\n",
    "columns = cursor.column_names\n",
    "\n",
    "# Print column names\n",
    "print(columns)\n",
    "\n",
    "# Print query results\n",
    "for result in results:\n",
    "    print(result)"
   ]
  },
  {
   "cell_type": "code",
   "execution_count": 10,
   "metadata": {},
   "outputs": [
    {
     "name": "stdout",
     "output_type": "stream",
     "text": [
      "The cursor is closed.\n",
      "MySQL connection is closed.\n"
     ]
    }
   ],
   "source": [
    "# Let's close the cursor and the connection\n",
    "if connection.is_connected():\n",
    "    cursor.close()\n",
    "    print(\"The cursor is closed.\")\n",
    "    connection.close()\n",
    "    print(\"MySQL connection is closed.\")\n",
    "else:\n",
    "    print(\"Connection is already closed\")"
   ]
  }
 ],
 "metadata": {
  "kernelspec": {
   "display_name": "Python 3",
   "language": "python",
   "name": "python3"
  },
  "language_info": {
   "codemirror_mode": {
    "name": "ipython",
    "version": 3
   },
   "file_extension": ".py",
   "mimetype": "text/x-python",
   "name": "python",
   "nbconvert_exporter": "python",
   "pygments_lexer": "ipython3",
   "version": "3.9.0"
  }
 },
 "nbformat": 4,
 "nbformat_minor": 4
}

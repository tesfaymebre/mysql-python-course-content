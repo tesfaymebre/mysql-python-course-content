{
 "cells": [
  {
   "cell_type": "markdown",
   "metadata": {},
   "source": [
    "## C6M1L3 Item 04 - Working with cursors"
   ]
  },
  {
   "cell_type": "markdown",
   "metadata": {},
   "source": [
    "## Prerequisites: \n",
    "\n",
    "To complete this lab, you must have access to the `little_lemon` database. As an authorized user, you need to establish a connection between Python and the database via the MySQL Connector/Python API using the following code: "
   ]
  },
  {
   "cell_type": "code",
   "execution_count": 1,
   "metadata": {},
   "outputs": [],
   "source": [
    "# Import MySQL Connector/Python\n",
    "import mysql.connector as connector"
   ]
  },
  {
   "cell_type": "code",
   "execution_count": 2,
   "metadata": {},
   "outputs": [],
   "source": [
    "# Establish connection between Python and MySQL database via connector API\n",
    "connection=connector.connect(\n",
    "                             user=\"root\",\n",
    "                             password=\"\",\n",
    "                            )"
   ]
  },
  {
   "cell_type": "markdown",
   "metadata": {},
   "source": [
    "## Scenario: \n",
    "\n",
    "Little Lemon needs to perform some basic tasks on its databases such as setting up the database and checking the names of the tables in the database. For this purpose, they have established a connection with the MySQL database using Python. In order to perform a task they need to communicate with the database. \n",
    "\n",
    "You are tasked to help Little Lemon set up their database in use and confirm the existence of tables to perform tasks. This needs to happen according to their requirements in their Python-based application. "
   ]
  },
  {
   "cell_type": "markdown",
   "metadata": {},
   "source": [
    "## Task 1\n",
    "\n",
    "Little Lemon is restructuring its database and they are interested to know what existing tables are in the database. You need to help them retrieve the names of all the existing tables in their database. \n",
    "\n",
    "To access the names of the existing tables in the Little Lemon database, set the database `little_lemon` in use. Then, create a cursor object and execute `SHOW TABLES` to retrieve the names of the tables in the database. Fetch all the names in a variable and use the `for` loop to print the output.    \n",
    "\n",
    "**TIP:** Create the standard “cursor” object with the default set of arguments. This is done by invoking the cursor module on the connection that works with the MySQL database using Python. "
   ]
  },
  {
   "cell_type": "code",
   "execution_count": 3,
   "metadata": {},
   "outputs": [],
   "source": [
    "# Create a cursor object\n",
    "cursor = connection.cursor()"
   ]
  },
  {
   "cell_type": "code",
   "execution_count": 4,
   "metadata": {},
   "outputs": [],
   "source": [
    "#type(cursor)"
   ]
  },
  {
   "cell_type": "code",
   "execution_count": 5,
   "metadata": {},
   "outputs": [
    {
     "name": "stdout",
     "output_type": "stream",
     "text": [
      "The database in use is:  little_lemon\n"
     ]
    }
   ],
   "source": [
    "# Set the “little_lemon” database for use\n",
    "cursor.execute(\"\"\"USE little_lemon\"\"\")\n",
    "print(\"The database in use is: \", connection.database)"
   ]
  },
  {
   "cell_type": "code",
   "execution_count": 6,
   "metadata": {},
   "outputs": [],
   "source": [
    "# Get the names of all the tables using SQL query\n",
    "cursor.execute(\"\"\"SHOW TABLES;\"\"\")"
   ]
  },
  {
   "cell_type": "code",
   "execution_count": 7,
   "metadata": {},
   "outputs": [],
   "source": [
    "# Retrieve query results in a variable ‘results’\n",
    "results = cursor.fetchall()"
   ]
  },
  {
   "cell_type": "code",
   "execution_count": 8,
   "metadata": {},
   "outputs": [
    {
     "name": "stdout",
     "output_type": "stream",
     "text": [
      "('Bookings',)\n",
      "('MenuItems',)\n",
      "('Menus',)\n",
      "('Orders',)\n"
     ]
    }
   ],
   "source": [
    "# Use for loop to print the names of all the tables \n",
    "for table in results:\n",
    "    print(table)"
   ]
  },
  {
   "cell_type": "markdown",
   "metadata": {},
   "source": [
    "## Task 2\n",
    "\n",
    "Creating the cursor is an important step to communicate with the entire MySQL database using Python.  \n",
    "\n",
    "You have learned about the different approaches to creating cursors and it depends on your application which approaches you will follow for resource optimization.  \n",
    "\n",
    "Run a test between the standard and the buffered cursor to check what type of cursor will work for the situation given below: \n",
    "\n",
    "* Create a cursor \n",
    "* Execute `USE little_lemon` \n",
    "* Execute `SELECT * FROM Bookings` \n",
    "* Execute `SELECT * FROM Orders` "
   ]
  },
  {
   "cell_type": "markdown",
   "metadata": {},
   "source": [
    "### Standard "
   ]
  },
  {
   "cell_type": "code",
   "execution_count": 9,
   "metadata": {},
   "outputs": [
    {
     "name": "stdout",
     "output_type": "stream",
     "text": [
      "The little_lemon database is set for use.\n",
      "All records from Bookings table are retrieved.\n"
     ]
    },
    {
     "ename": "InternalError",
     "evalue": "Unread result found",
     "output_type": "error",
     "traceback": [
      "\u001b[0;31m---------------------------------------------------------------------------\u001b[0m",
      "\u001b[0;31mInternalError\u001b[0m                             Traceback (most recent call last)",
      "\u001b[0;32m<ipython-input-9-6dd4eaceffeb>\u001b[0m in \u001b[0;36m<module>\u001b[0;34m\u001b[0m\n\u001b[1;32m     17\u001b[0m \u001b[0;34m\u001b[0m\u001b[0m\n\u001b[1;32m     18\u001b[0m \u001b[0;31m# Retrieve records from orders\u001b[0m\u001b[0;34m\u001b[0m\u001b[0;34m\u001b[0m\u001b[0;34m\u001b[0m\u001b[0m\n\u001b[0;32m---> 19\u001b[0;31m \u001b[0mcursor\u001b[0m\u001b[0;34m.\u001b[0m\u001b[0mexecute\u001b[0m\u001b[0;34m(\u001b[0m\u001b[0;34m\"\"\"SELECT * FROM Orders;\"\"\"\u001b[0m\u001b[0;34m)\u001b[0m\u001b[0;34m\u001b[0m\u001b[0;34m\u001b[0m\u001b[0m\n\u001b[0m\u001b[1;32m     20\u001b[0m \u001b[0mprint\u001b[0m\u001b[0;34m(\u001b[0m\u001b[0;34m\"All records from Orders table are retrieved.\"\u001b[0m\u001b[0;34m)\u001b[0m\u001b[0;34m\u001b[0m\u001b[0;34m\u001b[0m\u001b[0m\n",
      "\u001b[0;32m~/venvs/py39/lib/python3.9/site-packages/mysql/connector/cursor.py\u001b[0m in \u001b[0;36mexecute\u001b[0;34m(self, operation, params, multi)\u001b[0m\n\u001b[1;32m    524\u001b[0m             \u001b[0;32mraise\u001b[0m \u001b[0mProgrammingError\u001b[0m\u001b[0;34m(\u001b[0m\u001b[0;34m\"Cursor is not connected\"\u001b[0m\u001b[0;34m)\u001b[0m\u001b[0;34m\u001b[0m\u001b[0;34m\u001b[0m\u001b[0m\n\u001b[1;32m    525\u001b[0m \u001b[0;34m\u001b[0m\u001b[0m\n\u001b[0;32m--> 526\u001b[0;31m         \u001b[0mself\u001b[0m\u001b[0;34m.\u001b[0m\u001b[0m_connection\u001b[0m\u001b[0;34m.\u001b[0m\u001b[0mhandle_unread_result\u001b[0m\u001b[0;34m(\u001b[0m\u001b[0;34m)\u001b[0m\u001b[0;34m\u001b[0m\u001b[0;34m\u001b[0m\u001b[0m\n\u001b[0m\u001b[1;32m    527\u001b[0m \u001b[0;34m\u001b[0m\u001b[0m\n\u001b[1;32m    528\u001b[0m         \u001b[0mself\u001b[0m\u001b[0;34m.\u001b[0m\u001b[0m_reset_result\u001b[0m\u001b[0;34m(\u001b[0m\u001b[0;34m)\u001b[0m\u001b[0;34m\u001b[0m\u001b[0;34m\u001b[0m\u001b[0m\n",
      "\u001b[0;32m~/venvs/py39/lib/python3.9/site-packages/mysql/connector/connection.py\u001b[0m in \u001b[0;36mhandle_unread_result\u001b[0;34m(self)\u001b[0m\n\u001b[1;32m   1629\u001b[0m             \u001b[0mself\u001b[0m\u001b[0;34m.\u001b[0m\u001b[0mconsume_results\u001b[0m\u001b[0;34m(\u001b[0m\u001b[0;34m)\u001b[0m\u001b[0;34m\u001b[0m\u001b[0;34m\u001b[0m\u001b[0m\n\u001b[1;32m   1630\u001b[0m         \u001b[0;32melif\u001b[0m \u001b[0mself\u001b[0m\u001b[0;34m.\u001b[0m\u001b[0munread_result\u001b[0m\u001b[0;34m:\u001b[0m\u001b[0;34m\u001b[0m\u001b[0;34m\u001b[0m\u001b[0m\n\u001b[0;32m-> 1631\u001b[0;31m             \u001b[0;32mraise\u001b[0m \u001b[0mInternalError\u001b[0m\u001b[0;34m(\u001b[0m\u001b[0;34m\"Unread result found\"\u001b[0m\u001b[0;34m)\u001b[0m\u001b[0;34m\u001b[0m\u001b[0;34m\u001b[0m\u001b[0m\n\u001b[0m",
      "\u001b[0;31mInternalError\u001b[0m: Unread result found"
     ]
    }
   ],
   "source": [
    "# Establish connection between Python and MySQL database via connector API\n",
    "connection=connector.connect(\n",
    "                             user=\"root\",\n",
    "                             password=\"\",\n",
    "                            )\n",
    "\n",
    "# Create a cursor object\n",
    "cursor = connection.cursor()\n",
    "\n",
    "# Set the “little_lemon” database for use\n",
    "cursor.execute(\"\"\"USE little_lemon;\"\"\")\n",
    "print(\"The little_lemon database is set for use.\")\n",
    "\n",
    "# Retrieve records from bookings\n",
    "cursor.execute(\"\"\"SELECT * FROM Bookings;\"\"\")\n",
    "print(\"All records from Bookings table are retrieved.\")\n",
    "\n",
    "# Retrieve records from orders\n",
    "cursor.execute(\"\"\"SELECT * FROM Orders;\"\"\")\n",
    "print(\"All records from Orders table are retrieved.\")"
   ]
  },
  {
   "cell_type": "markdown",
   "metadata": {},
   "source": [
    "### Buffered "
   ]
  },
  {
   "cell_type": "code",
   "execution_count": 10,
   "metadata": {},
   "outputs": [
    {
     "name": "stdout",
     "output_type": "stream",
     "text": [
      "The little_lemon database is set for use.\n",
      "All records from Bookings table are retrieved.\n",
      "All records from Orders table are retrieved.\n"
     ]
    }
   ],
   "source": [
    "# Establish connection between Python and MySQL database via connector API\n",
    "connection=connector.connect(\n",
    "                             user=\"root\",\n",
    "                             password=\"\",\n",
    "                            )\n",
    "\n",
    "# Create a cursor object\n",
    "cursor = connection.cursor(buffered = True)\n",
    "\n",
    "# Set the “little_lemon” database for use\n",
    "cursor.execute(\"\"\"USE little_lemon;\"\"\")\n",
    "print(\"The little_lemon database is set for use.\")\n",
    "\n",
    "# Retrieve records from bookings\n",
    "cursor.execute(\"\"\"SELECT * FROM Bookings;\"\"\")\n",
    "print(\"All records from Bookings table are retrieved.\")\n",
    "\n",
    "# Retrieve records from orders\n",
    "cursor.execute(\"\"\"SELECT * FROM Orders;\"\"\")\n",
    "print(\"All records from Orders table are retrieved.\")"
   ]
  },
  {
   "cell_type": "markdown",
   "metadata": {},
   "source": [
    "## Task 3\n",
    "\n",
    "Little Lemon will have multiple databases soon. They need to plan for a scalable solution.  This information can be tracked in a Python dictionary. A dictionary cursor will be helpful as it returns a dictionary object.  \n",
    "\n",
    "Create a cursor with argument `[dictionary = True]` and retrieve the names of all the tables in the form of a dictionary object where the name of the tables is a value, and the database name is a key.  \n",
    "\n",
    "**TIP:** Explore the arguments that you can pass to the cursor module. "
   ]
  },
  {
   "cell_type": "code",
   "execution_count": 11,
   "metadata": {},
   "outputs": [],
   "source": [
    "# Create a cursor object with dictionary=True\n",
    "dic_cursor=connection.cursor(dictionary=True)"
   ]
  },
  {
   "cell_type": "code",
   "execution_count": 12,
   "metadata": {},
   "outputs": [],
   "source": [
    "#type(cursor)"
   ]
  },
  {
   "cell_type": "code",
   "execution_count": 13,
   "metadata": {},
   "outputs": [
    {
     "name": "stdout",
     "output_type": "stream",
     "text": [
      "{'Tables_in_little_lemon': 'Bookings'}\n",
      "{'Tables_in_little_lemon': 'MenuItems'}\n",
      "{'Tables_in_little_lemon': 'Menus'}\n",
      "{'Tables_in_little_lemon': 'Orders'}\n"
     ]
    }
   ],
   "source": [
    "# Set database in use\n",
    "dic_cursor.execute(\"use little_lemon\")\n",
    "\n",
    "# Execute SQL query to get the name of the tables\n",
    "dic_cursor.execute(\"show tables;\")\n",
    "\n",
    "# Retrieve query results in a variable ‘results’\n",
    "results = dic_cursor.fetchall()\n",
    "\n",
    "# Use for loop to print the names of all the tables \n",
    "for table in results:\n",
    "    print(table)"
   ]
  },
  {
   "cell_type": "code",
   "execution_count": 14,
   "metadata": {},
   "outputs": [
    {
     "name": "stdout",
     "output_type": "stream",
     "text": [
      "The cursor is closed.\n",
      "MySQL connection is closed.\n"
     ]
    }
   ],
   "source": [
    "# Let's close the cursor and the connection\n",
    "if connection.is_connected():\n",
    "    cursor.close()\n",
    "    print(\"The cursor is closed.\")\n",
    "    connection.close()\n",
    "    print(\"MySQL connection is closed.\")\n",
    "else:\n",
    "    print(\"Connection is already closed\")"
   ]
  }
 ],
 "metadata": {
  "kernelspec": {
   "display_name": "Python 3",
   "language": "python",
   "name": "python3"
  },
  "language_info": {
   "codemirror_mode": {
    "name": "ipython",
    "version": 3
   },
   "file_extension": ".py",
   "mimetype": "text/x-python",
   "name": "python",
   "nbconvert_exporter": "python",
   "pygments_lexer": "ipython3",
   "version": "3.9.0"
  }
 },
 "nbformat": 4,
 "nbformat_minor": 4
}

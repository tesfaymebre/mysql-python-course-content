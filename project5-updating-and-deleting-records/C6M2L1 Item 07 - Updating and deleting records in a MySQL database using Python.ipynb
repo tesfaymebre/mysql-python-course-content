{
 "cells": [
  {
   "cell_type": "markdown",
   "metadata": {},
   "source": [
    "## C6M2L1 Item 07 – Updating and deleting records in a MySQL database using Python"
   ]
  },
  {
   "cell_type": "markdown",
   "metadata": {},
   "source": [
    " \n",
    "## Prerequisite \n",
    "\n",
    "To complete this exercise, you must have access to the `little_lemon` database. As an authorized user, you need to establish a connection between Python and the database via the connector API and create a `cursor` object using the following code:"
   ]
  },
  {
   "cell_type": "code",
   "execution_count": 1,
   "metadata": {},
   "outputs": [],
   "source": [
    "import mysql.connector as connector"
   ]
  },
  {
   "cell_type": "code",
   "execution_count": 2,
   "metadata": {},
   "outputs": [],
   "source": [
    "# Establish connection b/w Python and MySQL database via connector API\n",
    "connection=connector.connect(\n",
    "                             user=\"root\", # use your own\n",
    "                             password=\"\", # use your own\n",
    "                            )"
   ]
  },
  {
   "cell_type": "code",
   "execution_count": 3,
   "metadata": {},
   "outputs": [],
   "source": [
    "# Create a cursor object to communicate with entire MySQL database\n",
    "cursor = connection.cursor()"
   ]
  },
  {
   "cell_type": "markdown",
   "metadata": {},
   "source": [
    "Once, the connection is established, and you have a cursor object, you can select the database `little_lemon` using the code below and work with the respective table to accomplish the required tasks.  "
   ]
  },
  {
   "cell_type": "code",
   "execution_count": 4,
   "metadata": {},
   "outputs": [
    {
     "data": {
      "text/plain": [
       "'little_lemon'"
      ]
     },
     "execution_count": 4,
     "metadata": {},
     "output_type": "execute_result"
    }
   ],
   "source": [
    "# Set the little_lemon database for use \n",
    "cursor.execute(\"use little_lemon\")\n",
    "\n",
    "# Confirm the database in use\n",
    "connection.database"
   ]
  },
  {
   "cell_type": "markdown",
   "metadata": {},
   "source": [
    "## Scenario \n",
    "\n",
    "Little Lemon restaurant need to update the records of customers in their database. They also need to delete records related to menu items. Let’s see if you can help Little Lemon to complete these update and delete tasks using Python. "
   ]
  },
  {
   "cell_type": "markdown",
   "metadata": {},
   "source": [
    "## Task 1:\n",
    "\n",
    "The guest Diana Pinto booked a table for two. She was assigned a Booking ID of 6 and the table number 8. However, she just rang Little Lemon to request a change to her booking. She now needs a table for four guests. \n",
    "\n",
    "You need to update Diana’s booking to table 10 in Little Lemon’s MySQL database using Python. Once you have executed the UPDATE query, use the SELECT statement to read all the data from the bookings table and print using for loop to confirm that the booking has been updated.   "
   ]
  },
  {
   "cell_type": "code",
   "execution_count": 5,
   "metadata": {},
   "outputs": [
    {
     "name": "stdout",
     "output_type": "stream",
     "text": [
      "Executing update query\n",
      "Comitting change to the table\n",
      "Record is updated in the table\n"
     ]
    }
   ],
   "source": [
    "# The update query is:\n",
    "update_bookings=\"\"\"UPDATE Bookings\n",
    "SET TableNo=10\n",
    "WHERE BookingID = 6;\"\"\"\n",
    "\n",
    "# Execute the query to update the table\n",
    "print(\"Executing update query\")\n",
    "cursor.execute(update_bookings)\n",
    "\n",
    "# Commit change \n",
    "print(\"Comitting change to the table\")\n",
    "connection.commit()\n",
    "print(\"Record is updated in the table\")"
   ]
  },
  {
   "cell_type": "markdown",
   "metadata": {},
   "source": [
    "The above code updates the records in the “Bookings” table. The print statements are added to track the process. \n",
    "\n",
    "Now, you can read the records from the “Bookings” table to confirm the update using the following code: "
   ]
  },
  {
   "cell_type": "code",
   "execution_count": 6,
   "metadata": {},
   "outputs": [
    {
     "name": "stdout",
     "output_type": "stream",
     "text": [
      "Data in the 'Bookings' table\n",
      "('BookingID', 'TableNo', 'GuestFirstName', 'GuestLastName', 'BookingSlot', 'EmployeeID')\n",
      "(1, 12, 'Anna', 'Iversen', datetime.timedelta(seconds=68400), 1)\n",
      "(2, 12, 'Joakim', 'Iversen', datetime.timedelta(seconds=68400), 1)\n",
      "(3, 19, 'Vanessa', 'McCarthy', datetime.timedelta(seconds=54000), 3)\n",
      "(4, 15, 'Marcos', 'Romero', datetime.timedelta(seconds=63000), 4)\n",
      "(5, 5, 'Hiroki', 'Yamane', datetime.timedelta(seconds=66600), 2)\n",
      "(6, 10, 'Diana', 'Pinto', datetime.timedelta(seconds=72000), 5)\n"
     ]
    }
   ],
   "source": [
    "# The query to retrieve all bookings is: \n",
    "all_bookings = \"\"\"SELECT * FROM Bookings;\"\"\"\n",
    "\n",
    "# Execute query \n",
    "cursor.execute(all_bookings)\n",
    "\n",
    "# Fetch all results that satisfy the query \n",
    "results = cursor.fetchall()\n",
    "\n",
    "# Retrieve the column names\n",
    "cols = cursor.column_names\n",
    "\n",
    "# print column names and the records from results using for loop\n",
    "print(\"Data in the 'Bookings' table\")\n",
    "print(cols)\n",
    "for result in results:  \n",
    "    print(result)"
   ]
  },
  {
   "cell_type": "markdown",
   "metadata": {},
   "source": [
    "## Task 2: \n",
    "\n",
    "Little Lemon has encountered a conflict with two bookings. To resolve the conflict, you need to update the record for the guest Joakim Iversen, who has a Booking ID of 2.  \n",
    "\n",
    "Update Joakim’s booking in the MySQL database using Python as follows: \n",
    "\n",
    "* Change the guest’s table number to 11 \n",
    "* Change the `EmployeeID` of the guest’s waiter to 6 \n",
    "\n",
    "This guest’s records must be updated in two locations within the booking table.  Once you have executed the code, view the output using a SELECT statement and print using for loop in python. "
   ]
  },
  {
   "cell_type": "code",
   "execution_count": 7,
   "metadata": {},
   "outputs": [
    {
     "name": "stdout",
     "output_type": "stream",
     "text": [
      "Executing update query\n",
      "Comitting change to the table\n",
      "Record is updated in the table\n"
     ]
    }
   ],
   "source": [
    "# The update query is:\n",
    "update_bookings=\"\"\"UPDATE Bookings\n",
    "SET TableNo=11, EmployeeID=6\n",
    "WHERE BookingID = 2;\"\"\"\n",
    "\n",
    "# Execute the query to update the table\n",
    "print(\"Executing update query\")\n",
    "cursor.execute(update_bookings)\n",
    "\n",
    "# Commit change \n",
    "print(\"Comitting change to the table\")\n",
    "connection.commit()\n",
    "print(\"Record is updated in the table\")"
   ]
  },
  {
   "cell_type": "markdown",
   "metadata": {},
   "source": [
    "The above code updates the records in the “Bookings” table. The print statements are added to track the process. \n",
    "\n",
    "Now, you can read the records from the “Bookings” table to confirm the update using the following code: "
   ]
  },
  {
   "cell_type": "code",
   "execution_count": 8,
   "metadata": {},
   "outputs": [
    {
     "name": "stdout",
     "output_type": "stream",
     "text": [
      "Data in the 'Bookings' table\n",
      "('BookingID', 'TableNo', 'GuestFirstName', 'GuestLastName', 'BookingSlot', 'EmployeeID')\n",
      "(1, 12, 'Anna', 'Iversen', datetime.timedelta(seconds=68400), 1)\n",
      "(2, 11, 'Joakim', 'Iversen', datetime.timedelta(seconds=68400), 6)\n",
      "(3, 19, 'Vanessa', 'McCarthy', datetime.timedelta(seconds=54000), 3)\n",
      "(4, 15, 'Marcos', 'Romero', datetime.timedelta(seconds=63000), 4)\n",
      "(5, 5, 'Hiroki', 'Yamane', datetime.timedelta(seconds=66600), 2)\n",
      "(6, 10, 'Diana', 'Pinto', datetime.timedelta(seconds=72000), 5)\n"
     ]
    }
   ],
   "source": [
    "# The query to retrieve all bookings is: \n",
    "all_bookings = \"\"\"SELECT * FROM Bookings;\"\"\"\n",
    "\n",
    "# Execute query \n",
    "cursor.execute(all_bookings)\n",
    "\n",
    "# Fetch all results that satisfy the query \n",
    "results = cursor.fetchall()\n",
    "\n",
    "# Retrieve column names\n",
    "cols = cursor.column_names\n",
    "\n",
    "# Print column names and records from results using for loop\n",
    "print(\"Data in the 'Bookings' table\")\n",
    "print(cols)\n",
    "for result in results:  \n",
    "    print(result)"
   ]
  },
  {
   "cell_type": "markdown",
   "metadata": {},
   "source": [
    "## Task 3: \n",
    "\n",
    "Little Lemon restaurant didn’t receive their regular supply of ingredients today. This means that they can’t provide any Greek cuisine for their guests. They need to delete all Greek cuisine from their menu until the supply of ingredients is restored. \n",
    "\n",
    "Delete these records from the menu table in the Little Lemon database using Python. Once you have executed the code, view the output. "
   ]
  },
  {
   "cell_type": "code",
   "execution_count": 9,
   "metadata": {},
   "outputs": [
    {
     "name": "stdout",
     "output_type": "stream",
     "text": [
      "Executing 'DELETE' query\n",
      "Comitting change to the table\n",
      "The table is updated after deletion of the requested records\n"
     ]
    }
   ],
   "source": [
    "# The SQL query is:\n",
    "delete_query_greek=\"\"\"DELETE FROM Menus WHERE Cuisine = 'Greek'\"\"\"\n",
    "\n",
    "# Execute the query\n",
    "print(\"Executing 'DELETE' query\")\n",
    "cursor.execute(delete_query_greek)\n",
    "\n",
    "# Commit change \n",
    "print(\"Comitting change to the table\")\n",
    "connection.commit()\n",
    "print(\"The table is updated after deletion of the requested records\")"
   ]
  },
  {
   "cell_type": "markdown",
   "metadata": {},
   "source": [
    "Once, the required records are deleted using the above code, you can run the code below to confirm and print the updated \"Menus\" table."
   ]
  },
  {
   "cell_type": "code",
   "execution_count": 10,
   "metadata": {},
   "outputs": [
    {
     "name": "stdout",
     "output_type": "stream",
     "text": [
      "Data in the \"Menu\" table:\n",
      "('MenuID', 'ItemID', 'Cuisine')\n",
      "(2, 3, 'Italian')\n",
      "(2, 9, 'Italian')\n",
      "(2, 12, 'Italian')\n",
      "(2, 15, 'Italian')\n",
      "(3, 5, 'Turkish')\n",
      "(3, 11, 'Turkish')\n",
      "(3, 16, 'Turkish')\n",
      "(3, 17, 'Turkish')\n"
     ]
    }
   ],
   "source": [
    "# The query to retrieve records from Menus table is: \n",
    "all_menus = \"\"\"SELECT * FROM Menus;\"\"\"\n",
    "\n",
    "# Execute query \n",
    "cursor.execute(all_menus)\n",
    "\n",
    "# Fetch all results that satisfy the query \n",
    "results = cursor.fetchall()\n",
    "\n",
    "# Retrieve column names\n",
    "cols = cursor.column_names\n",
    "\n",
    "# Print column names and records from results using for loop\n",
    "print(\"\"\"Data in the \"Menu\" table:\"\"\")\n",
    "print(cols)\n",
    "for result in results:\n",
    "    print(result)"
   ]
  },
  {
   "cell_type": "markdown",
   "metadata": {},
   "source": [
    "### Additional on deleting all the records holding NULL values in a certain column."
   ]
  },
  {
   "cell_type": "code",
   "execution_count": 11,
   "metadata": {},
   "outputs": [],
   "source": [
    "delete_query_null=\"\"\"DELETE FROM Bookings WHERE TableNo IS NULL;\"\"\"\n",
    "cursor.execute(delete_query_null)\n",
    "\n",
    "connection.commit()"
   ]
  },
  {
   "cell_type": "code",
   "execution_count": 12,
   "metadata": {},
   "outputs": [
    {
     "name": "stdout",
     "output_type": "stream",
     "text": [
      "The cursor is closed.\n",
      "MySQL connection is closed.\n"
     ]
    }
   ],
   "source": [
    "# Let's close the cursor and the connection\n",
    "if connection.is_connected():\n",
    "    cursor.close()\n",
    "    print(\"The cursor is closed.\")\n",
    "    connection.close()\n",
    "    print(\"MySQL connection is closed.\")\n",
    "else:\n",
    "    print(\"Connection is already closed\")"
   ]
  },
  {
   "cell_type": "markdown",
   "metadata": {},
   "source": [
    "**NOTE: Please make sure you have reverted all the changes and your database is in its original state for the upcoming labs.**\n",
    "\n",
    "For revisions and learning purpose, you ca recreate the database \"little_lemon\" and create table and populate them by rerunning the previous labs on:\n",
    "* Create your table structure\n",
    "* Creating and reading records"
   ]
  }
 ],
 "metadata": {
  "kernelspec": {
   "display_name": "Python 3",
   "language": "python",
   "name": "python3"
  },
  "language_info": {
   "codemirror_mode": {
    "name": "ipython",
    "version": 3
   },
   "file_extension": ".py",
   "mimetype": "text/x-python",
   "name": "python",
   "nbconvert_exporter": "python",
   "pygments_lexer": "ipython3",
   "version": "3.10.12"
  }
 },
 "nbformat": 4,
 "nbformat_minor": 4
}

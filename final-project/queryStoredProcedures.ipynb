{
 "cells": [
  {
   "cell_type": "markdown",
   "metadata": {},
   "source": [
    "## Final project"
   ]
  },
  {
   "cell_type": "markdown",
   "metadata": {},
   "source": [
    "# Implement and query stored procedures\n",
    "In this exercise you must create a pool of connections and get a connection from the pool to implement the stored procedures to complete the following tasks:\n",
    "\n",
    "* Establish a connection by importing MySQLConnectionPool and creating a pool with two connections.\n",
    "\n",
    "* Create and call a stored procedure named PeakHours that identifies the peak, or busiest hour, for the restaurant based on the number of bookings.\n",
    "\n",
    "* Create and call a stored procedure named GuestStatus that outputs status of each guest’s order based on which employee is assigned to the order.\n",
    "\n",
    "Stored procedures are created to carry out routine operations on MySQL databases. They are consistent and make sure that the written SQL queries in the procedures are executed in the same way every time you call the stored procedure.\n",
    "\n",
    "A stored procedure is created only once, and you store it in the MySQL database. You can call the stored procedures as many times as you need in your Python-based application.\n",
    "\n",
    "The tasks and the steps that you must follow to complete each one are as follows:\n",
    "\n",
    "\n"
   ]
  },
  {
   "cell_type": "markdown",
   "metadata": {},
   "source": [
    "## Task 1: Establish a connection \n",
    "* Step one: Import MySQLConnectionPool\n",
    "\n",
    "* Step two: Import Error\n",
    "\n",
    "* Step three: Create a pool named pool_a with two connections. Use a try-except block to handle any possible errors. \n",
    "\n",
    "Your database configurations are as follows:\n",
    "\n",
    "```python\n",
    "dbconfig={\"database\":\"little_lemon_db\", \"user\":\"your_username\", \"password\":\"your_password\"}\n",
    "```\n",
    "* Step four: Obtain a connection from pool_a and create a cursor object to communicate with the database.\n",
    "\n",
    "\n",
    "  "
   ]
  },
  {
   "cell_type": "code",
   "execution_count": 1,
   "metadata": {},
   "outputs": [
    {
     "name": "stdout",
     "output_type": "stream",
     "text": [
      "The connection pool is created with a name:  pool_a\n",
      "The pool size is: 2\n"
     ]
    }
   ],
   "source": [
    "from mysql.connector.pooling import MySQLConnectionPool\n",
    "from mysql.connector import Error\n",
    "\n",
    "dbconfig = {\n",
    "    \"database\":\"little_lemon_db\",\n",
    "    \"user\" : \"root\",\n",
    "    \"password\" : \"\"\n",
    "}\n",
    "\n",
    "try:\n",
    "    pool = MySQLConnectionPool(pool_name = \"pool_a\",\n",
    "                           pool_size = 2, #default is 5\n",
    "                           **dbconfig)\n",
    "    print(\"The connection pool is created with a name: \",pool.pool_name)\n",
    "    print(\"The pool size is:\",pool.pool_size)\n",
    "\n",
    "except Error as er:\n",
    "    print(\"Error code:\", er.errno)\n",
    "    print(\"Error message:\", er.msg)"
   ]
  },
  {
   "cell_type": "code",
   "execution_count": 2,
   "metadata": {},
   "outputs": [
    {
     "name": "stdout",
     "output_type": "stream",
     "text": [
      "cursor object created\n"
     ]
    }
   ],
   "source": [
    "connection1 = pool.get_connection()\n",
    "cursor = connection1.cursor()\n",
    "\n",
    "print(\"cursor object created\")"
   ]
  },
  {
   "cell_type": "markdown",
   "metadata": {},
   "source": [
    "## Task 2: Implement a stored procedure called PeakHours\n",
    "Step one: Write a SQL CREATE PROCEDURE query for PeakHours\n",
    "\n",
    "* Use HOUR to extract the hour part from the BookingSlot.\n",
    "\n",
    "* Use COUNT on hour to count the number of bookings.\n",
    "\n",
    "* Use GROUP BY on booking hour.\n",
    "\n",
    "* Use ORDER BY on the number of bookings in descending order.\n",
    "\n",
    "Step two: Run the stored procedure query by invoking execute module on the cursor.\n",
    "\n",
    "Step three: Invoke callproc to call the stored procedure.\n",
    "\n",
    "Step four: Fetch the results in a variable called dataset.\n",
    "\n",
    "Step five: Extract the names of the columns.\n",
    "\n",
    "Step six: Print the names of the columns.\n",
    "\n",
    "Step seven: Print the sorted data using for loop."
   ]
  },
  {
   "cell_type": "code",
   "execution_count": 11,
   "metadata": {},
   "outputs": [
    {
     "name": "stdout",
     "output_type": "stream",
     "text": [
      "Stored procedure named PeakHours created.\n"
     ]
    }
   ],
   "source": [
    "cursor.execute(\"DROP PROCEDURE IF EXISTS PeakHours;\")\n",
    "\n",
    "stored_procedure_query = \"\"\"\n",
    "CREATE PROCEDURE PeakHours()\n",
    "BEGIN\n",
    "SELECT HOUR(BookingSlot) AS hour, COUNT(BookingID) AS nBookings\n",
    "FROM Bookings\n",
    "GROUP BY hour\n",
    "ORDER BY nBookings DESC;\n",
    "END\n",
    "\"\"\"\n",
    "\n",
    "cursor.execute(stored_procedure_query)\n",
    "print(\"Stored procedure named PeakHours created.\")"
   ]
  },
  {
   "cell_type": "code",
   "execution_count": 12,
   "metadata": {},
   "outputs": [
    {
     "name": "stdout",
     "output_type": "stream",
     "text": [
      "['hour', 'nBookings']\n",
      "(19, 2)\n",
      "(15, 1)\n",
      "(17, 1)\n",
      "(18, 1)\n",
      "(20, 1)\n"
     ]
    }
   ],
   "source": [
    "cursor.callproc(\"PeakHours\")\n",
    "\n",
    "results = next(cursor.stored_results())\n",
    "dataset = results.fetchall()\n",
    "\n",
    "# Retrieve column names using list comprehension in a 'for' loop \n",
    "for column_id in cursor.stored_results():\n",
    "    columns = [ column[0] for column in column_id.description ]\n",
    "\n",
    "# Print column names\n",
    "print(columns)\n",
    "\n",
    "# Print data \n",
    "for data in dataset:\n",
    "    print(data)"
   ]
  },
  {
   "cell_type": "markdown",
   "metadata": {},
   "source": [
    "## Task 3: Implement a stored procedure GuestStatus\n",
    "Step one: Write a SQL CREATE PROCEDURE query for GuestStatus.\n",
    "\n",
    "Step two: Combine the guest’s first and last name from the booking column using CONCAT. \n",
    "\n",
    "Step three: Use CASE to implement the following statuses for each guest’s order:\n",
    "\n",
    "* If the Role in the Employee table is Manager or Assistant Manager then the guest’s order status is Ready to pay\n",
    "\n",
    "* If the Role in the Employee table is Head Chef then the status is Ready to serve\n",
    "\n",
    "* If the Role in the Employee table is Assistant Chef then the status is Preparing Order\n",
    "\n",
    "* If the Role in the Employee table is Head Waiter then the status is Order served\n",
    "\n",
    "Step four: LEFT JOIN Bookings table with Employees ON EmployeeID\n",
    "\n",
    "Step five: Run the stored procedure query by invoking execute module on the cursor.\n",
    "\n",
    "Step six: Invoke callproc to call the stored procedure.\n",
    "\n",
    "Step seven: Fetch the results in a variable called dataset.\n",
    "\n",
    "Step eight: Extract the names of the columns.\n",
    "\n",
    "Step nine: Print the names of the columns.\n",
    "\n",
    "Step ten: Print the sorted data using for loop.\n",
    "\n",
    "Step eleven: Close the connection to return it back to the pool."
   ]
  },
  {
   "cell_type": "code",
   "execution_count": 13,
   "metadata": {},
   "outputs": [],
   "source": [
    "cursor.execute(\"DROP PROCEDURE IF EXISTS GuestStatus;\")\n",
    "\n",
    "stored_procedure_query = \"\"\"\n",
    "CREATE PROCEDURE GuestStatus()\n",
    "BEGIN\n",
    "SELECT CONCAT(B.GuestFirstName,\" \",B.GuestLastName) AS FullName, \n",
    "CASE\n",
    "WHEN E.Role IN (\"Manager\", \"Assistant Manager\") THEN \"Ready to pay\"\n",
    "WHEN E.Role = \"Head Chef\" THEN \"Ready to serve\"\n",
    "WHEN E.Role = \"Assistant Chef\" THEN \"Preparing Order\"\n",
    "WHEN E.Role = \"Head Waiter\" THEN \"Order served\" \n",
    "ELSE \"No status\"\n",
    "END AS Status\n",
    "FROM Bookings AS B\n",
    "LEFT JOIN Employees AS E\n",
    "ON B.EmployeeID = E.EmployeeID;\n",
    "END\n",
    "\"\"\"\n",
    "\n",
    "cursor.execute(stored_procedure_query)\n",
    "print(\"stored procedure name GuestStatus created\")"
   ]
  },
  {
   "cell_type": "code",
   "execution_count": 14,
   "metadata": {},
   "outputs": [
    {
     "name": "stdout",
     "output_type": "stream",
     "text": [
      "['FullName', 'Status']\n",
      "('Anna Iversen', 'Ready to pay')\n",
      "('Joakim Iversen', 'Ready to pay')\n",
      "('Vanessa McCarthy', 'Ready to serve')\n",
      "('Marcos Romero', 'Preparing Order')\n",
      "('Hiroki Yamane', 'Ready to pay')\n",
      "('Diana Pinto', 'Order served')\n"
     ]
    }
   ],
   "source": [
    "cursor.callproc(\"GuestStatus\")\n",
    "\n",
    "results = next(cursor.stored_results())\n",
    "dataset = results.fetchall()\n",
    "\n",
    "# Retrieve column names using list comprehension in a 'for' loop \n",
    "for column_id in cursor.stored_results():\n",
    "    columns = [ column[0] for column in column_id.description ]\n",
    "\n",
    "# Print column names\n",
    "print(columns)\n",
    "\n",
    "# Print data \n",
    "for data in dataset:\n",
    "    print(data)"
   ]
  },
  {
   "cell_type": "code",
   "execution_count": 15,
   "metadata": {},
   "outputs": [
    {
     "name": "stdout",
     "output_type": "stream",
     "text": [
      "The cursor is closed.\n",
      "MySQL connection is closed.\n"
     ]
    }
   ],
   "source": [
    "# Let's close the cursor and the connection\n",
    "if connection1.is_connected():\n",
    "    cursor.close()\n",
    "    print(\"The cursor is closed.\")\n",
    "    connection1.close()\n",
    "    print(\"MySQL connection is closed.\")\n",
    "else:\n",
    "    print(\"Connection is already closed\")"
   ]
  },
  {
   "cell_type": "code",
   "execution_count": null,
   "metadata": {},
   "outputs": [],
   "source": []
  }
 ],
 "metadata": {
  "kernelspec": {
   "display_name": "Python 3",
   "language": "python",
   "name": "python3"
  },
  "language_info": {
   "codemirror_mode": {
    "name": "ipython",
    "version": 3
   },
   "file_extension": ".py",
   "mimetype": "text/x-python",
   "name": "python",
   "nbconvert_exporter": "python",
   "pygments_lexer": "ipython3",
   "version": "3.10.12"
  }
 },
 "nbformat": 4,
 "nbformat_minor": 4
}

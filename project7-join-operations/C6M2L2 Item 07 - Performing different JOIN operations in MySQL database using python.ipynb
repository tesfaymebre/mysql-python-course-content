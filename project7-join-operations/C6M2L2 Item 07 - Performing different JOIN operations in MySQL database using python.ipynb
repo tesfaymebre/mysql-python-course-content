{
 "cells": [
  {
   "cell_type": "markdown",
   "metadata": {},
   "source": [
    "## C6M2L2 Item 07 – Performing different JOIN operations in MySQL database using python"
   ]
  },
  {
   "cell_type": "markdown",
   "metadata": {},
   "source": [
    "## Prerequisites \n",
    "\n",
    "To complete this exercise, you must have access to the `little_lemon` database. You need to import MySQL Python/Connector and, as an authorized user, establish a connection between Python and the MySQL database via connector API using the following code: "
   ]
  },
  {
   "cell_type": "code",
   "execution_count": 1,
   "metadata": {},
   "outputs": [],
   "source": [
    "import mysql.connector as connector"
   ]
  },
  {
   "cell_type": "code",
   "execution_count": 2,
   "metadata": {},
   "outputs": [],
   "source": [
    "# Establish connection b/w Python and MySQL database via connector API\n",
    "connection=connector.connect(\n",
    "                             user=\"root\", # use your own\n",
    "                             password=\"\", # use your own\n",
    "                            )"
   ]
  },
  {
   "cell_type": "markdown",
   "metadata": {},
   "source": [
    "Once, the connection is established, create a `cursor` object to communicate with the entire MySQL database from your python working environment. "
   ]
  },
  {
   "cell_type": "code",
   "execution_count": 3,
   "metadata": {},
   "outputs": [],
   "source": [
    "# Create cursor object to communicate with entire MySQL database\n",
    "cursor = connection.cursor()"
   ]
  },
  {
   "cell_type": "markdown",
   "metadata": {},
   "source": [
    "Now, you can select the database `little_lemon` using the code below and work with the respective tables to accomplish the required tasks. "
   ]
  },
  {
   "cell_type": "code",
   "execution_count": 4,
   "metadata": {},
   "outputs": [
    {
     "data": {
      "text/plain": [
       "'little_lemon'"
      ]
     },
     "execution_count": 4,
     "metadata": {},
     "output_type": "execute_result"
    }
   ],
   "source": [
    "# Set little_lemon database for use \n",
    "cursor.execute(\"use little_lemon\")\n",
    "\n",
    "# Confirm the database in use\n",
    "connection.database"
   ]
  },
  {
   "cell_type": "markdown",
   "metadata": {},
   "source": [
    "## Scenario \n",
    "\n",
    "Little Lemon needs to carry out the following tasks with their datasets: \n",
    "\n",
    "* Determine the final bill amount for each customer who attended the restaurant today \n",
    "* Identify the type of cuisine that each item in their menu belongs to. \n",
    "\n",
    "Help Little Lemon to complete these tasks using “JOIN” operations on the restaurant’s MySQL database using Python. "
   ]
  },
  {
   "cell_type": "markdown",
   "metadata": {},
   "source": [
    "## Task 1:\n",
    "\n",
    "Little Lemon need the following information for each of the items in their menu: \n",
    "\n",
    "* The name of each item in the menu, \n",
    "* Each menu item’s type, \n",
    "* Each menu item’s cuisine, \n",
    "* and the price of each item in the menu. \n",
    "\n",
    "Help Little Lemon to extract this data from their database using Python. \n",
    "\n",
    "**TIP:** You need to combine records from the `MenuItems` and `Menu` tables using the `JOIN` operation and show only the requested columns in the output. "
   ]
  },
  {
   "cell_type": "code",
   "execution_count": 5,
   "metadata": {},
   "outputs": [
    {
     "name": "stdout",
     "output_type": "stream",
     "text": [
      "('Item_Name', 'Item_Type', 'Cuisine', 'Price')\n",
      "('Olives', 'Starters', 'Greek', 5)\n",
      "('Greek salad', 'Main Courses', 'Greek', 15)\n",
      "('Greek yoghurt', 'Desserts', 'Greek', 7)\n",
      "('Athens White wine', 'Drinks', 'Greek', 25)\n",
      "('Minestrone', 'Starters', 'Italian', 8)\n",
      "('Pizza', 'Main Courses', 'Italian', 15)\n",
      "('Cheesecake', 'Desserts', 'Italian', 4)\n",
      "('Turkish Coffee', 'Drinks', 'Italian', 10)\n",
      "('Falafel', 'Starters', 'Turkish', 7)\n",
      "('Ice cream', 'Desserts', 'Turkish', 6)\n",
      "('Turkish Coffee', 'Drinks', 'Turkish', 10)\n",
      "('Kabasa', 'Main Courses', 'Turkish', 17)\n"
     ]
    }
   ],
   "source": [
    "# Task 1\n",
    "\n",
    "# The SQL query is:\n",
    "join_query=\"\"\"SELECT \n",
    "MenuItems.Name AS Item_Name, \n",
    "MenuItems.Type AS Item_Type, \n",
    "Menus.Cuisine AS Cuisine, \n",
    "MenuItems.Price AS Price \n",
    "FROM MenuItems \n",
    "INNER JOIN Menus ON MenuItems.ItemID=Menus.ItemID;\"\"\"\n",
    "\n",
    "# Execute query\n",
    "cursor.execute(join_query)\n",
    "\n",
    "# Fetch records \n",
    "results = cursor.fetchall()\n",
    "\n",
    "# Retrieve column names\n",
    "columns = cursor.column_names\n",
    "\n",
    "# Print column names\n",
    "print(columns)\n",
    "\n",
    "# Print query results\n",
    "for result in results:\n",
    "    print(result)   "
   ]
  },
  {
   "cell_type": "markdown",
   "metadata": {},
   "source": [
    "## Task 2:\n",
    "\n",
    "Little Lemon notice that there are several menu items missing from the output of the previous task. \n",
    "\n",
    "Help Little Lemon to identify these missing items by using a `JOIN` operation in Python to return data for the missing records. \n",
    "\n",
    "**TIP:** Use a `JOIN` operation to return the missing data by joining the `MenuItems` and Menu tables. "
   ]
  },
  {
   "cell_type": "code",
   "execution_count": 6,
   "metadata": {},
   "outputs": [
    {
     "name": "stdout",
     "output_type": "stream",
     "text": [
      "('Item_Name', 'Item_Type', 'Cuisine', 'Price')\n",
      "('Flatbread', 'Starters', None, 5)\n",
      "('Tomato bread', 'Starters', None, 8)\n",
      "('Hummus', 'Starters', None, 5)\n",
      "('Bean soup', 'Main Courses', None, 12)\n",
      "('Corfu Red Wine', 'Drinks', None, 30)\n"
     ]
    }
   ],
   "source": [
    "# Task 2\n",
    "# Good to specify column from the table\n",
    "# Try left, right, inner\n",
    "\n",
    "# The SQL query is:\n",
    "join_query=\"\"\"SELECT \n",
    "MenuItems.Name AS Item_Name, \n",
    "MenuItems.Type AS Item_Type, \n",
    "Menus.Cuisine AS Cuisine, \n",
    "MenuItems.Price AS Price \n",
    "FROM MenuItems \n",
    "LEFT JOIN Menus ON MenuItems.ItemID=Menus.ItemID\n",
    "WHERE Cuisine IS NULL;\"\"\"\n",
    "\n",
    "# Execute query\n",
    "cursor.execute(join_query)\n",
    "\n",
    "# Fetch records \n",
    "results = cursor.fetchall()\n",
    "\n",
    "# Retrieve column names\n",
    "columns = cursor.column_names\n",
    "\n",
    "# Print column names\n",
    "print(columns)\n",
    "\n",
    "# Print query results\n",
    "for result in results:\n",
    "    print(result)    "
   ]
  },
  {
   "cell_type": "markdown",
   "metadata": {},
   "source": [
    "## Task 3:\n",
    "\n",
    "Little Lemon restaurant need you to help them retrieve the following information from the `Bookings` and the `Orders` tables in their MySQL database using Python: \n",
    "\n",
    "* Booking ID \n",
    "* Table number \n",
    "* Guest first name \n",
    "* Server ID \n",
    "* Bill amount  \n",
    "\n",
    "**TIP:** Combine the records from the `Bookings` and the `Orders` tables using a `JOIN` operation. The requested column `ServerID` is the `EmployeeID` column in the `Booking` table. Create an alias for this purpose.  "
   ]
  },
  {
   "cell_type": "code",
   "execution_count": 7,
   "metadata": {},
   "outputs": [
    {
     "name": "stdout",
     "output_type": "stream",
     "text": [
      "('BookingID', 'TableNo', 'GuestFirstName', 'ServerID', 'BillAmount')\n",
      "(1, 12, 'Anna', 1, 86)\n",
      "(2, 12, 'Joakim', 1, 37)\n",
      "(3, 19, 'Vanessa', 3, 37)\n",
      "(4, 15, 'Marcos', 4, 40)\n",
      "(5, 5, 'Hiroki', 2, 43)\n",
      "(6, 8, 'Diana', 5, None)\n"
     ]
    }
   ],
   "source": [
    "# Task 3\n",
    "\n",
    "# The SQL query is:\n",
    "join_query=\"\"\"SELECT \n",
    "Bookings.BookingID,\n",
    "Bookings.TableNo,\n",
    "Bookings.GuestFirstName,\n",
    "Bookings.EmployeeID AS ServerID,\n",
    "Orders.BillAmount\n",
    "FROM Bookings\n",
    "LEFT JOIN Orders ON Bookings.BookingID = Orders.BookingID;\n",
    "\"\"\"\n",
    "\n",
    "# Execute query\n",
    "cursor.execute(join_query)\n",
    "\n",
    "# Fetch records \n",
    "results = cursor.fetchall()\n",
    "\n",
    "# Retrieve column names\n",
    "columns = cursor.column_names\n",
    "\n",
    "# Print column names\n",
    "print(columns)\n",
    "\n",
    "# Print query results\n",
    "for result in results:\n",
    "    print(result)    \n"
   ]
  },
  {
   "cell_type": "code",
   "execution_count": 8,
   "metadata": {},
   "outputs": [
    {
     "name": "stdout",
     "output_type": "stream",
     "text": [
      "The cursor is closed.\n",
      "MySQL connection is closed.\n"
     ]
    }
   ],
   "source": [
    "# Let's close the cursor and the connection\n",
    "if connection.is_connected():\n",
    "    cursor.close()\n",
    "    print(\"The cursor is closed.\")\n",
    "    connection.close()\n",
    "    print(\"MySQL connection is closed.\")\n",
    "else:\n",
    "    print(\"Connection is already closed\")"
   ]
  }
 ],
 "metadata": {
  "kernelspec": {
   "display_name": "Python 3",
   "language": "python",
   "name": "python3"
  },
  "language_info": {
   "codemirror_mode": {
    "name": "ipython",
    "version": 3
   },
   "file_extension": ".py",
   "mimetype": "text/x-python",
   "name": "python",
   "nbconvert_exporter": "python",
   "pygments_lexer": "ipython3",
   "version": "3.9.0"
  }
 },
 "nbformat": 4,
 "nbformat_minor": 4
}
